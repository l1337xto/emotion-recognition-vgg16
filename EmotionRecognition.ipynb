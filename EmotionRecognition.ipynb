{
  "nbformat": 4,
  "nbformat_minor": 0,
  "metadata": {
    "kernelspec": {
      "display_name": "Python 3",
      "language": "python",
      "name": "python3"
    },
    "language_info": {
      "codemirror_mode": {
        "name": "ipython",
        "version": 3
      },
      "file_extension": ".py",
      "mimetype": "text/x-python",
      "name": "python",
      "nbconvert_exporter": "python",
      "pygments_lexer": "ipython3",
      "version": "3.7.3"
    },
    "colab": {
      "name": "EmotionRecognition.ipynb",
      "provenance": [],
      "collapsed_sections": []
    },
    "accelerator": "GPU"
  },
  "cells": [
    {
      "cell_type": "code",
      "metadata": {
        "id": "ClY6sh9WEwgN"
      },
      "source": [
        "import numpy as np\n",
        "import pandas as  pd\n",
        "import matplotlib.pyplot as plt"
      ],
      "execution_count": null,
      "outputs": []
    },
    {
      "cell_type": "code",
      "metadata": {
        "id": "wNJdoKJAEwgX"
      },
      "source": [
        "# import pandas as pd\n",
        "# import numpy as np\n",
        "# import tensorflow\n",
        "# import keras\n",
        "# from keras.models import Sequential\n",
        "# from keras.layers.core import Flatten, Dense, Dropout\n",
        "# from keras.layers.convolutional import Convolution2D, MaxPooling2D, ZeroPadding2D\n",
        "# from keras.optimizers import SGD\n",
        "# import cv2"
      ],
      "execution_count": null,
      "outputs": []
    },
    {
      "cell_type": "code",
      "metadata": {
        "id": "oReexFZt7ApO"
      },
      "source": [
        "import keras\n",
        "from keras import regularizers\n",
        "from keras.models import Sequential\n",
        "from keras.layers import Dense, Dropout, Flatten\n",
        "from keras.layers import Conv2D, MaxPooling2D, ZeroPadding2D\n",
        "from keras.preprocessing.image import ImageDataGenerator\n",
        "from keras import backend as K\n",
        "import numpy as np"
      ],
      "execution_count": null,
      "outputs": []
    },
    {
      "cell_type": "code",
      "metadata": {
        "colab": {
          "base_uri": "https://localhost:8080/"
        },
        "id": "41EmBDYyGthT",
        "outputId": "23d3b177-5354-4998-d33c-787d212c88d7"
      },
      "source": [
        "from google.colab import drive\n",
        "drive.mount('/content/drive')"
      ],
      "execution_count": null,
      "outputs": [
        {
          "output_type": "stream",
          "text": [
            "Mounted at /content/drive\n"
          ],
          "name": "stdout"
        }
      ]
    },
    {
      "cell_type": "code",
      "metadata": {
        "colab": {
          "base_uri": "https://localhost:8080/"
        },
        "id": "y8qRC1izHQyi",
        "outputId": "6dbde34c-88d9-464a-a36e-4cad9373205c"
      },
      "source": [
        "cd '/content/drive/MyDrive/assign1_NNFL'"
      ],
      "execution_count": null,
      "outputs": [
        {
          "output_type": "stream",
          "text": [
            "/content/drive/MyDrive/assign1_NNFL\n"
          ],
          "name": "stdout"
        }
      ]
    },
    {
      "cell_type": "code",
      "metadata": {
        "id": "EEhMcb_tEwgZ"
      },
      "source": [
        "dataset = pd.read_csv('train.csv')"
      ],
      "execution_count": null,
      "outputs": []
    },
    {
      "cell_type": "code",
      "metadata": {
        "id": "nBsQfWG7472K"
      },
      "source": [
        "# X_train = []\n",
        "# y_train = []\n",
        "# X_test = []\n",
        "# y_test = []\n",
        "# for index, row in emotion_data.iterrows():\n",
        "#     k = row['pixels'].split(\" \")\n",
        "#     if row['Usage'] == 'Training':\n",
        "#         X_train.append(np.array(k))\n",
        "#         y_train.append(row['emotion'])\n",
        "#     elif row['Usage'] == 'PublicTest':\n",
        "#         X_test.append(np.array(k))\n",
        "#         y_test.append(row['emotion'])"
      ],
      "execution_count": null,
      "outputs": []
    },
    {
      "cell_type": "code",
      "metadata": {
        "id": "0jesMnWYEwgZ"
      },
      "source": [
        "#label\n",
        "y = dataset.iloc[:,0].values\n",
        "# print(y)"
      ],
      "execution_count": null,
      "outputs": []
    },
    {
      "cell_type": "code",
      "metadata": {
        "colab": {
          "base_uri": "https://localhost:8080/"
        },
        "id": "wxnYyCIMEwgZ",
        "outputId": "c8277bfd-ee64-4213-d3c8-831ff157cd15"
      },
      "source": [
        "print(len(y))"
      ],
      "execution_count": null,
      "outputs": [
        {
          "output_type": "stream",
          "text": [
            "34887\n"
          ],
          "name": "stdout"
        }
      ]
    },
    {
      "cell_type": "code",
      "metadata": {
        "id": "R34bZGnMEwga"
      },
      "source": [
        "x_str = dataset.iloc[:,1]"
      ],
      "execution_count": null,
      "outputs": []
    },
    {
      "cell_type": "code",
      "metadata": {
        "id": "8eK4eA2VEwga"
      },
      "source": [
        "a = list(map(int, x_str[0].split(' ')))[:48 * 48]\n",
        "i = np.array(a).reshape((48, 48)).astype('uint8')"
      ],
      "execution_count": null,
      "outputs": []
    },
    {
      "cell_type": "code",
      "metadata": {
        "colab": {
          "base_uri": "https://localhost:8080/",
          "height": 284
        },
        "id": "-imdTQblEwgb",
        "outputId": "548178c0-74af-41fa-ddbd-223fe0e3c111"
      },
      "source": [
        "plt.imshow(i,cmap='gray')"
      ],
      "execution_count": null,
      "outputs": [
        {
          "output_type": "execute_result",
          "data": {
            "text/plain": [
              "<matplotlib.image.AxesImage at 0x7fe0c5ead2e8>"
            ]
          },
          "metadata": {
            "tags": []
          },
          "execution_count": 13
        },
        {
          "output_type": "display_data",
          "data": {
            "image/png": "[encoded data removed]",
            "text/plain": [
              "<Figure size 432x288 with 1 Axes>"
            ]
          },
          "metadata": {
            "tags": [],
            "needs_background": "light"
          }
        }
      ]
    },
    {
      "cell_type": "code",
      "metadata": {
        "id": "irRYCTUgEwgc"
      },
      "source": [
        "x = []\n",
        "for i in range(len(y)):\n",
        "    a = list(map(int, x_str[i].split(' ')))[:48 * 48]\n",
        "    img = np.array(a).reshape((48, 48)).astype('uint8')\n",
        "    # img = img.flatten()\n",
        "    x.append(img)"
      ],
      "execution_count": null,
      "outputs": []
    },
    {
      "cell_type": "code",
      "metadata": {
        "id": "iyEQrZJcEwgd"
      },
      "source": [
        "y = np.asarray(y)\n",
        "x = np.asarray(x)\n",
        "x = x.astype('float32')\n",
        "x /= 255\n"
      ],
      "execution_count": null,
      "outputs": []
    },
    {
      "cell_type": "code",
      "metadata": {
        "id": "9SF8tK8BEwgd"
      },
      "source": [
        "# Splitting the dataset into the Training set and Test set\n",
        "from sklearn.model_selection import train_test_split\n",
        "x_train, x_test, y_train, y_test = train_test_split(x, y, test_size = 0.25, random_state = 1)"
      ],
      "execution_count": null,
      "outputs": []
    },
    {
      "cell_type": "code",
      "metadata": {
        "id": "6OJM4Atv5rkS"
      },
      "source": [
        "\n",
        "x_train = x_train.reshape(x_train.shape[0], 48, 48, 1)\n",
        "x_test = x_test.reshape(x_test.shape[0], 48, 48, 1)"
      ],
      "execution_count": null,
      "outputs": []
    },
    {
      "cell_type": "code",
      "metadata": {
        "id": "s4DlQwknEwgd"
      },
      "source": [
        "#Convert labels to one-hot\n",
        "num_classes = 7\n",
        "y_train = keras.utils.to_categorical(y_train, num_classes)\n",
        "y_test = keras.utils.to_categorical(y_test, num_classes)"
      ],
      "execution_count": null,
      "outputs": []
    },
    {
      "cell_type": "code",
      "metadata": {
        "colab": {
          "base_uri": "https://localhost:8080/"
        },
        "id": "6xAj3HlJJ_P2",
        "outputId": "17ed07c4-02cd-48a8-ec27-cef5a34b372b"
      },
      "source": [
        "#Model1\n",
        "\n",
        "###########################\n",
        "\n",
        "model = Sequential()\n",
        "\n",
        "model.add(Conv2D(64, kernel_size=(3, 3),activation='relu', input_shape=(48,48,1)))\n",
        "model.add(Conv2D(64, (3, 3), activation='relu'))\n",
        "model.add(Conv2D(64, (3, 3), activation='relu'))\n",
        "#model.add(Dropout(0.4))\n",
        "model.add(MaxPooling2D(pool_size=(2, 2)))\n",
        "\n",
        "model.add(ZeroPadding2D((1,1)))\n",
        "model.add(Conv2D(128, (3, 3),activation='relu'))\n",
        "model.add(Conv2D(128, (3, 3), activation='relu'))\n",
        "model.add(ZeroPadding2D((1,1)))\n",
        "model.add(Conv2D(128, (3, 3), activation='relu'))\n",
        "model.add(Dropout(0.4))\n",
        "model.add(MaxPooling2D(pool_size=(2, 2)))\n",
        "\n",
        "# model.add(ZeroPadding2D((1,1)))\n",
        "# model.add(Conv2D(256, (3, 3),activation='relu'))\n",
        "# model.add(Conv2D(256, (3, 3), activation='relu'))\n",
        "# model.add(ZeroPadding2D((1,1)))\n",
        "# model.add(Conv2D(256, (3, 3), activation='relu'))\n",
        "# #model.add(Dropout(0.4))\n",
        "# model.add(MaxPooling2D(pool_size=(2, 2)))\n",
        "\n",
        "# model.add(ZeroPadding2D((1,1)))\n",
        "# model.add(Conv2D(512, (3, 3),activation='relu'))\n",
        "# model.add(Conv2D(512, (3, 3), activation='relu'))\n",
        "# model.add(ZeroPadding2D((1,1)))\n",
        "# model.add(Conv2D(512, (3, 3), activation='relu'))\n",
        "# #model.add(Dropout(0.4))\n",
        "# #model.add(MaxPooling2D(pool_size=(2, 2)))\n",
        "\n",
        "model.add(Flatten())\n",
        "model.add(Dense(1024, activation='relu',kernel_regularizer=regularizers.l1_l2(l1=1e-5, l2=1e-4)))\n",
        "model.add(Dropout(0.2))\n",
        "# model.add(Dense(1024, activation='relu',kernel_regularizer=regularizers.l1_l2(l1=1e-5, l2=1e-4)))\n",
        "# model.add(Dropout(0.5))\n",
        "model.add(Dense(num_classes, activation='softmax'))\n",
        "\n",
        "model.compile(loss=keras.losses.categorical_crossentropy,\n",
        "              optimizer=keras.optimizers.SGD(),\n",
        "              metrics=['accuracy'])\n",
        "\n",
        "model.summary()"
      ],
      "execution_count": null,
      "outputs": [
        {
          "output_type": "stream",
          "text": [
            "Model: \"sequential_2\"\n",
            "_________________________________________________________________\n",
            "Layer (type)                 Output Shape              Param #   \n",
            "=================================================================\n",
            "conv2d_15 (Conv2D)           (None, 46, 46, 64)        640       \n",
            "_________________________________________________________________\n",
            "conv2d_16 (Conv2D)           (None, 44, 44, 64)        36928     \n",
            "_________________________________________________________________\n",
            "conv2d_17 (Conv2D)           (None, 42, 42, 64)        36928     \n",
            "_________________________________________________________________\n",
            "max_pooling2d_5 (MaxPooling2 (None, 21, 21, 64)        0         \n",
            "_________________________________________________________________\n",
            "zero_padding2d_6 (ZeroPaddin (None, 23, 23, 64)        0         \n",
            "_________________________________________________________________\n",
            "conv2d_18 (Conv2D)           (None, 21, 21, 128)       73856     \n",
            "_________________________________________________________________\n",
            "conv2d_19 (Conv2D)           (None, 19, 19, 128)       147584    \n",
            "_________________________________________________________________\n",
            "zero_padding2d_7 (ZeroPaddin (None, 21, 21, 128)       0         \n",
            "_________________________________________________________________\n",
            "conv2d_20 (Conv2D)           (None, 19, 19, 128)       147584    \n",
            "_________________________________________________________________\n",
            "dropout_6 (Dropout)          (None, 19, 19, 128)       0         \n",
            "_________________________________________________________________\n",
            "max_pooling2d_6 (MaxPooling2 (None, 9, 9, 128)         0         \n",
            "_________________________________________________________________\n",
            "flatten_2 (Flatten)          (None, 10368)             0         \n",
            "_________________________________________________________________\n",
            "dense_6 (Dense)              (None, 1024)              10617856  \n",
            "_________________________________________________________________\n",
            "dropout_7 (Dropout)          (None, 1024)              0         \n",
            "_________________________________________________________________\n",
            "dense_7 (Dense)              (None, 7)                 7175      \n",
            "=================================================================\n",
            "Total params: 11,068,551\n",
            "Trainable params: 11,068,551\n",
            "Non-trainable params: 0\n",
            "_________________________________________________________________\n"
          ],
          "name": "stdout"
        }
      ]
    },
    {
      "cell_type": "code",
      "metadata": {
        "id": "ojslLjLeeSKS"
      },
      "source": [
        "#model2\n",
        "\n",
        "# model = Sequential()\n",
        "# model.add(ZeroPadding2D((1,1),input_shape=(48,48,1)))\n",
        "# model.add(Convolution2D(64, 3, 3, activation='relu'))\n",
        "# model.add(ZeroPadding2D((1,1)))\n",
        "# model.add(Convolution2D(64, 3, 3, activation='relu'))\n",
        "# model.add(MaxPooling2D((2,2), strides=(2,2)))\n",
        "\n",
        "# model.add(ZeroPadding2D((1,1)))\n",
        "# model.add(Convolution2D(128, 3, 3, activation='relu'))\n",
        "# model.add(ZeroPadding2D((1,1)))\n",
        "# model.add(Convolution2D(128, 3, 3, activation='relu'))\n",
        "# #model.add(MaxPooling2D((2,2), strides=(2,2)))\n",
        "\n",
        "# model.add(ZeroPadding2D((1,1)))\n",
        "# model.add(Convolution2D(256, 3, 3, activation='relu'))\n",
        "# model.add(ZeroPadding2D((1,1)))\n",
        "# model.add(Convolution2D(256, 3, 3, activation='relu'))\n",
        "# model.add(ZeroPadding2D((1,1)))\n",
        "# model.add(Convolution2D(256, 3, 3, activation='relu'))\n",
        "# #model.add(MaxPooling2D((2,2), strides=(2,2)))\n",
        "\n",
        "# model.add(ZeroPadding2D((1,1)))\n",
        "# model.add(Convolution2D(512, 3, 3, activation='relu'))\n",
        "# model.add(ZeroPadding2D((1,1)))\n",
        "# model.add(Convolution2D(512, 3, 3, activation='relu'))\n",
        "# model.add(ZeroPadding2D((1,1)))\n",
        "# model.add(Convolution2D(512, 3, 3, activation='relu'))\n",
        "# #model.add(MaxPooling2D((2,2), strides=(2,2)))\n",
        "\n",
        "\n",
        "# model.add(ZeroPadding2D((1,1)))\n",
        "# model.add(Convolution2D(512, 3, 3, activation='relu'))\n",
        "# model.add(ZeroPadding2D((1,1)))\n",
        "# model.add(Convolution2D(512, 3, 3, activation='relu'))\n",
        "# model.add(ZeroPadding2D((1,1)))\n",
        "# model.add(Convolution2D(512, 3, 3, activation='relu'))\n",
        "# #model.add(MaxPooling2D((2,2), strides=(2,2)))\n",
        "\n",
        "# model.add(Flatten())\n",
        "# model.add(Dense(4096, activation='relu'))\n",
        "# model.add(Dropout(0.5))\n",
        "# model.add(Dense(4096, activation='relu'))\n",
        "# model.add(Dropout(0.5))\n",
        "# model.add(Dense(num_classes, activation='softmax'))\n",
        "\n",
        "# model.compile(optimizer='sgd',loss='categorical_crossentropy',metrics=['accuracy'])\n",
        "\n",
        "# model.summary()"
      ],
      "execution_count": null,
      "outputs": []
    },
    {
      "cell_type": "code",
      "metadata": {
        "colab": {
          "base_uri": "https://localhost:8080/"
        },
        "id": "_Ken06DmLiW9",
        "outputId": "0bb2e59b-9160-49e4-ec80-3fa2b32ef942"
      },
      "source": [
        "model.fit(x_train, y_train,\n",
        "          batch_size=32,\n",
        "          epochs=100,\n",
        "          verbose=1,\n",
        "          validation_data=(x_test, y_test)\n",
        "          )"
      ],
      "execution_count": null,
      "outputs": [
        {
          "output_type": "stream",
          "text": [
            "Epoch 1/100\n",
            "818/818 [==============================] - 20s 23ms/step - loss: 3.2290 - accuracy: 0.2520 - val_loss: 3.1912 - val_accuracy: 0.2459\n",
            "Epoch 2/100\n",
            "818/818 [==============================] - 19s 23ms/step - loss: 3.1365 - accuracy: 0.2848 - val_loss: 3.1067 - val_accuracy: 0.3082\n",
            "Epoch 3/100\n",
            "818/818 [==============================] - 19s 23ms/step - loss: 3.0459 - accuracy: 0.3435 - val_loss: 2.9983 - val_accuracy: 0.3628\n",
            "Epoch 4/100\n",
            "818/818 [==============================] - 18s 23ms/step - loss: 2.9599 - accuracy: 0.3807 - val_loss: 2.9536 - val_accuracy: 0.3882\n",
            "Epoch 5/100\n",
            "818/818 [==============================] - 18s 23ms/step - loss: 2.8748 - accuracy: 0.4151 - val_loss: 2.8639 - val_accuracy: 0.4197\n",
            "Epoch 6/100\n",
            "818/818 [==============================] - 19s 23ms/step - loss: 2.8122 - accuracy: 0.4364 - val_loss: 2.8293 - val_accuracy: 0.4333\n",
            "Epoch 7/100\n",
            "818/818 [==============================] - 19s 23ms/step - loss: 2.7401 - accuracy: 0.4593 - val_loss: 2.7843 - val_accuracy: 0.4615\n",
            "Epoch 8/100\n",
            "818/818 [==============================] - 19s 23ms/step - loss: 2.6603 - accuracy: 0.4923 - val_loss: 2.7190 - val_accuracy: 0.4773\n",
            "Epoch 9/100\n",
            "818/818 [==============================] - 18s 23ms/step - loss: 2.5950 - accuracy: 0.5088 - val_loss: 2.7044 - val_accuracy: 0.4690\n",
            "Epoch 10/100\n",
            "818/818 [==============================] - 18s 23ms/step - loss: 2.5285 - accuracy: 0.5378 - val_loss: 2.6604 - val_accuracy: 0.4768\n",
            "Epoch 11/100\n",
            "818/818 [==============================] - 19s 23ms/step - loss: 2.4300 - accuracy: 0.5701 - val_loss: 2.6409 - val_accuracy: 0.4866\n",
            "Epoch 12/100\n",
            "818/818 [==============================] - 19s 23ms/step - loss: 2.3385 - accuracy: 0.6014 - val_loss: 2.6036 - val_accuracy: 0.4930\n",
            "Epoch 13/100\n",
            "818/818 [==============================] - 19s 23ms/step - loss: 2.2415 - accuracy: 0.6386 - val_loss: 2.5592 - val_accuracy: 0.5104\n",
            "Epoch 14/100\n",
            "818/818 [==============================] - 19s 23ms/step - loss: 2.1398 - accuracy: 0.6746 - val_loss: 2.5671 - val_accuracy: 0.5144\n",
            "Epoch 15/100\n",
            "818/818 [==============================] - 19s 23ms/step - loss: 2.0292 - accuracy: 0.7150 - val_loss: 2.5497 - val_accuracy: 0.5206\n",
            "Epoch 16/100\n",
            "818/818 [==============================] - 18s 23ms/step - loss: 1.9144 - accuracy: 0.7536 - val_loss: 2.6007 - val_accuracy: 0.5132\n",
            "Epoch 17/100\n",
            "818/818 [==============================] - 18s 23ms/step - loss: 1.8005 - accuracy: 0.7940 - val_loss: 2.5930 - val_accuracy: 0.5172\n",
            "Epoch 18/100\n",
            "818/818 [==============================] - 18s 23ms/step - loss: 1.7168 - accuracy: 0.8266 - val_loss: 2.6410 - val_accuracy: 0.5292\n",
            "Epoch 19/100\n",
            "818/818 [==============================] - 18s 23ms/step - loss: 1.6391 - accuracy: 0.8521 - val_loss: 2.7213 - val_accuracy: 0.5173\n",
            "Epoch 20/100\n",
            "818/818 [==============================] - 19s 23ms/step - loss: 1.5737 - accuracy: 0.8727 - val_loss: 2.6949 - val_accuracy: 0.5220\n",
            "Epoch 21/100\n",
            "818/818 [==============================] - 19s 23ms/step - loss: 1.4945 - accuracy: 0.9013 - val_loss: 2.7841 - val_accuracy: 0.5331\n",
            "Epoch 22/100\n",
            "818/818 [==============================] - 18s 23ms/step - loss: 1.4588 - accuracy: 0.9133 - val_loss: 2.7996 - val_accuracy: 0.5274\n",
            "Epoch 23/100\n",
            "818/818 [==============================] - 18s 23ms/step - loss: 1.4262 - accuracy: 0.9222 - val_loss: 2.8113 - val_accuracy: 0.5358\n",
            "Epoch 24/100\n",
            "818/818 [==============================] - 18s 23ms/step - loss: 1.3931 - accuracy: 0.9334 - val_loss: 2.8391 - val_accuracy: 0.5336\n",
            "Epoch 25/100\n",
            "818/818 [==============================] - 19s 23ms/step - loss: 1.3681 - accuracy: 0.9393 - val_loss: 2.9004 - val_accuracy: 0.5290\n",
            "Epoch 26/100\n",
            "475/818 [================>.............] - ETA: 6s - loss: 1.3338 - accuracy: 0.9502"
          ],
          "name": "stdout"
        }
      ]
    }
  ]
}